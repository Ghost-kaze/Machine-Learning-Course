{
 "cells": [
  {
   "cell_type": "markdown",
   "metadata": {},
   "source": [
    "# Python Test 1"
   ]
  },
  {
   "cell_type": "markdown",
   "metadata": {},
   "source": [
    "## Rules"
   ]
  },
  {
   "cell_type": "markdown",
   "metadata": {},
   "source": [
    "1. Do not copy from other students\n",
    "2. You are allowed to access Internet but do not allowed to search for solution.\n",
    "3. only top 3 score will be announced\n",
    "4. Prize for 1st place (pass in quiz and atleast one programming solution)"
   ]
  },
  {
   "cell_type": "markdown",
   "metadata": {},
   "source": [
    "Name - {enter your name} \n",
    "<br>\n",
    "Father Name - {enter your father name}"
   ]
  },
  {
   "cell_type": "markdown",
   "metadata": {},
   "source": [
    "#### 20min Quiz, 20 Question, 70% marks for pass"
   ]
  },
  {
   "cell_type": "markdown",
   "metadata": {},
   "source": [
    " Please start quiz when you have permission to start"
   ]
  },
  {
   "cell_type": "markdown",
   "metadata": {},
   "source": [
    "https://www.proprofs.com/quiz-school/story.php?title=mjuymdcxmwrit7"
   ]
  },
  {
   "cell_type": "markdown",
   "metadata": {},
   "source": [
    "copy and paste your certificate here\n",
    "1. create text block (esc + m)\n",
    "2. copy image and paste on text block and run the cell"
   ]
  },
  {
   "cell_type": "markdown",
   "metadata": {},
   "source": []
  },
  {
   "cell_type": "markdown",
   "metadata": {},
   "source": []
  },
  {
   "cell_type": "markdown",
   "metadata": {},
   "source": [
    "### Problem 1"
   ]
  },
  {
   "cell_type": "markdown",
   "metadata": {},
   "source": [
    " <h4> \n",
    "Given: <br>\n",
    "  A positive integer n > 1. <br>\n",
    "Tasks:<br>\n",
    "  Print a list of primes such that their sum is equal to n, minimize the number of primes in this list.<br>\n",
    "  Add proper explanations and time complexity.<br>\n",
    "Samples:<br>\n",
    "  2 - 2<br>\n",
    "  4 - 2+2<br>\n",
    "</h2>"
   ]
  },
  {
   "cell_type": "code",
   "execution_count": null,
   "metadata": {},
   "outputs": [],
   "source": [
    "# start \n"
   ]
  },
  {
   "cell_type": "markdown",
   "metadata": {},
   "source": [
    "### Problem 2"
   ]
  },
  {
   "cell_type": "markdown",
   "metadata": {},
   "source": [
    "<h4>\n",
    "    The general formula for the probability density function of the normal distribution is \n",
    "</h4>"
   ]
  },
  {
   "attachments": {
    "image.png": {
     "image/png": "[encoded data removed]"
    }
   },
   "cell_type": "markdown",
   "metadata": {},
   "source": [
    "![image.png](attachment:image.png)"
   ]
  },
  {
   "cell_type": "markdown",
   "metadata": {},
   "source": [
    "where μ is the Mean and σ is the Standard Deviation. The case where μ = 0 and σ = 1 is called the standard normal distribution. The equation for the standard normal distribution is "
   ]
  },
  {
   "attachments": {
    "image.png": {
     "image/png": "[encoded data removed]"
    }
   },
   "cell_type": "markdown",
   "metadata": {},
   "source": [
    "![image.png](attachment:image.png)"
   ]
  },
  {
   "cell_type": "markdown",
   "metadata": {},
   "source": [
    "make a program for probability density function and standard normal distribution. which accept array (list) and return their values as array (list)"
   ]
  },
  {
   "cell_type": "code",
   "execution_count": null,
   "metadata": {},
   "outputs": [],
   "source": [
    "# start"
   ]
  },
  {
   "cell_type": "markdown",
   "metadata": {},
   "source": [
    "### Problem 3"
   ]
  },
  {
   "cell_type": "markdown",
   "metadata": {},
   "source": [
    "<h4>\n",
    "Given: <br>\n",
    "A grid of size n x m. Each cell is either Red or Blue. Red is denoted as * and . as Blue.<br>\n",
    "The entire grid is surrounded in blue.<br>\n",
    "A collection of blue cells surrounded by red on all sides is considered a pool.<br>\n",
    "Tasks:<br>\n",
    "Count the total number of pools in the grid.<br>\n",
    "Return the size of each of the pools in the grid.<br>\n",
    "Time and Space complexities for each of these operations.<br>\n",
    "Sample:<br>\n",
    "5 4<br>\n",
    "* * * * <br>\n",
    "* . . * <br>\n",
    "* * * * <br>\n",
    "* * . * <br>\n",
    ". . * * <br>\n",
    "Number of pools: 2; their size = 2, 1 \n",
    "</h4>"
   ]
  },
  {
   "cell_type": "code",
   "execution_count": null,
   "metadata": {},
   "outputs": [],
   "source": [
    "#start"
   ]
  },
  {
   "cell_type": "markdown",
   "metadata": {},
   "source": [
    "### Submit Test\n",
    "upload your notebook on drive\n",
    "link - https://drive.google.com/drive/folders/1vFJTi9wWmM-vbZFBXwo2LsmDNTSj49OE?usp=sharing"
   ]
  },
  {
   "cell_type": "code",
   "execution_count": null,
   "metadata": {},
   "outputs": [],
   "source": []
  }
 ],
 "metadata": {
  "kernelspec": {
   "display_name": "Python 3",
   "language": "python",
   "name": "python3"
  },
  "language_info": {
   "codemirror_mode": {
    "name": "ipython",
    "version": 3
   },
   "file_extension": ".py",
   "mimetype": "text/x-python",
   "name": "python",
   "nbconvert_exporter": "python",
   "pygments_lexer": "ipython3",
   "version": "3.7.3"
  }
 },
 "nbformat": 4,
 "nbformat_minor": 2
}
